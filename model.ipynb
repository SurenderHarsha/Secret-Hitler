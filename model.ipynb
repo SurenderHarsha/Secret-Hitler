{
 "cells": [
  {
   "cell_type": "code",
   "execution_count": 139,
   "metadata": {},
   "outputs": [],
   "source": [
    "import mlsolver\n",
    "from mlsolver.kripke import World, KripkeStructure\n",
    "from itertools import combinations\n",
    "from random import randrange, choice"
   ]
  },
  {
   "cell_type": "code",
   "execution_count": 140,
   "metadata": {},
   "outputs": [],
   "source": [
    "# Configuration\n",
    "# The way the roles are assigned: players 0..n_fascists are fascist, the other players are liberals\n",
    "n_players = 5\n",
    "n_fascists = 2\n",
    "fascist_wins_needed = 5\n",
    "liberal_wins_needed = 5"
   ]
  },
  {
   "cell_type": "code",
   "execution_count": 141,
   "metadata": {},
   "outputs": [],
   "source": [
    "# Utility functions\n",
    "def is_fascist(player_number):\n",
    "    return player_number < n_fascists\n",
    "\n",
    "def is_liberal(player_number):\n",
    "    return player_number >= n_fascists\n",
    "\n",
    "def add_reflexive_edges(worlds, relations):\n",
    "    result = {}\n",
    "    for agent, agents_relations in relations.items():\n",
    "        result_agents = agents_relations.copy()\n",
    "        for world in worlds:\n",
    "            result_agents.append((world.name, world.name))\n",
    "            result[agent] = result_agents\n",
    "    return result\n",
    "\n",
    "def add_symmetric_edges(relations):\n",
    "    result = {}\n",
    "    for agent, agents_relations in relations.items():\n",
    "        result_agents = agents_relations.copy()\n",
    "        for r in agents_relations:\n",
    "            x, y = r[1], r[0]\n",
    "            result_agents.append((x, y))\n",
    "        result[agent] = result_agents\n",
    "    return result"
   ]
  },
  {
   "cell_type": "code",
   "execution_count": 142,
   "metadata": {},
   "outputs": [],
   "source": [
    "# Initialize the worlds\n",
    "combination_numbers = combinations(range(n_players), n_fascists)\n",
    "possible_combinations = []\n",
    "for combo in combination_numbers:\n",
    "    atoms = [\"{}=fascist\".format(p) for p in combo] + [\"{}=liberal\".format(p) for p in range(n_players) if p not in combo]\n",
    "    possible_combinations.append(atoms)\n",
    "    \n",
    "worlds = [World(\"{}\".format(idx), { atom: True for atom in atoms}) for idx, atoms in enumerate(possible_combinations)]\n",
    "n_worlds = len(worlds)"
   ]
  },
  {
   "cell_type": "code",
   "execution_count": 143,
   "metadata": {},
   "outputs": [],
   "source": [
    "# Initialize the relations\n",
    "relations = {\n",
    "    # Just the liberal relations\n",
    "    n: [(str(x), str(y)) for x, y in list(combinations((range(n_worlds)), 2))] for n in range(n_fascists, n_players)\n",
    "}\n",
    "\n",
    "# Add the fascist relations\n",
    "for n in range(n_fascists):\n",
    "    relations.update({ n: [] })\n",
    "\n",
    "relations.update(add_reflexive_edges(worlds, relations))\n",
    "relations.update(add_symmetric_edges(relations))"
   ]
  },
  {
   "cell_type": "code",
   "execution_count": 144,
   "metadata": {},
   "outputs": [
    {
     "name": "stdout",
     "output_type": "stream",
     "text": [
      "The fascists win!\n"
     ]
    }
   ],
   "source": [
    "# Set up the game state\n",
    "liberal_wins = 0\n",
    "fascist_wins = 0\n",
    "vote_threshold = n_players // 2 + 1\n",
    "chancellor = -1\n",
    "president = randrange(0, n_players)\n",
    "\n",
    "while liberal_wins < 5 and fascist_wins < 5:\n",
    "    president = (president + 1) % n_players\n",
    "    if is_liberal(president):\n",
    "        chancellor = choice(list(range(president)) + list(range(president + 1, n_players)))\n",
    "    else:\n",
    "        # Potential issue: this crashes if there is only 1 fascist in the game\n",
    "        chancellor = choice(list(range(president)) + list(range(president + 1, n_fascists)))\n",
    "    votes_for = randrange(0, n_players - n_fascists) + (n_fascists if is_fascist(chancellor) else 0)\n",
    "    if votes_for >= vote_threshold:\n",
    "        if is_liberal(president) and is_liberal(chancellor):\n",
    "            liberal_wins += 1\n",
    "        else:\n",
    "            fascist_wins += 1\n",
    "\n",
    "print('The liberals win!' if liberal_wins >= 5 else 'The fascists win!')"
   ]
  },
  {
   "cell_type": "code",
   "execution_count": null,
   "metadata": {},
   "outputs": [],
   "source": []
  }
 ],
 "metadata": {
  "kernelspec": {
   "display_name": "Python 3.7.4 64-bit",
   "language": "python",
   "name": "python37464bitea5ce05b6c914e5bbe2470d201692694"
  },
  "language_info": {
   "codemirror_mode": {
    "name": "ipython",
    "version": 3
   },
   "file_extension": ".py",
   "mimetype": "text/x-python",
   "name": "python",
   "nbconvert_exporter": "python",
   "pygments_lexer": "ipython3",
   "version": "3.7.7"
  }
 },
 "nbformat": 4,
 "nbformat_minor": 4
}
